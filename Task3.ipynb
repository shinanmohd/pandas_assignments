{
 "cells": [
  {
   "cell_type": "code",
   "execution_count": 1,
   "id": "c89e5832-e171-4222-99db-708dea05d5c3",
   "metadata": {},
   "outputs": [],
   "source": [
    "import pandas as pd"
   ]
  },
  {
   "cell_type": "markdown",
   "id": "f5eaaef9-4efd-40f0-91a4-f4fc6ad09c69",
   "metadata": {},
   "source": [
    "## qstn1"
   ]
  },
  {
   "cell_type": "code",
   "execution_count": 3,
   "id": "9d101b02-d874-4d4b-a420-ae9ab266c979",
   "metadata": {},
   "outputs": [],
   "source": [
    "curexch={'1 SGD':'64.05 INR','1 JPY':'0.57 INR','1 BDT':'0.70 INR','1 CNY':'11.74 INR','1 HKD':'10.76 INR','1 IDR':'0.005 INR','1 KHR':'0.020 INR','1 KRW':'0.062 INR','1 LAK':'0.003 INR','1 LKR':'0.28 INR'}"
   ]
  },
  {
   "cell_type": "code",
   "execution_count": 5,
   "id": "5f2f0a11-e51c-4c15-8b67-98977754f68c",
   "metadata": {},
   "outputs": [
    {
     "data": {
      "text/plain": [
       "{'1 SGD': '64.05 INR',\n",
       " '1 JPY': '0.57 INR',\n",
       " '1 BDT': '0.70 INR',\n",
       " '1 CNY': '11.74 INR',\n",
       " '1 HKD': '10.76 INR',\n",
       " '1 IDR': '0.005 INR',\n",
       " '1 KHR': '0.020 INR',\n",
       " '1 KRW': '0.062 INR',\n",
       " '1 LAK': '0.003 INR',\n",
       " '1 LKR': '0.28 INR'}"
      ]
     },
     "execution_count": 5,
     "metadata": {},
     "output_type": "execute_result"
    }
   ],
   "source": [
    "curexch"
   ]
  },
  {
   "cell_type": "markdown",
   "id": "024bf273-a49b-473b-b3ab-17908cc7fb40",
   "metadata": {},
   "source": [
    "## qstn2"
   ]
  },
  {
   "cell_type": "code",
   "execution_count": 9,
   "id": "2ccf336d-c382-4b55-a6e9-9a2c75d2f396",
   "metadata": {},
   "outputs": [],
   "source": [
    "football={'Ronaldo':['07','Al-nassr'],'Messi':['10','Inter Miami'],'Neymar':['10','Al Hilal']}"
   ]
  },
  {
   "cell_type": "code",
   "execution_count": 11,
   "id": "46697ca7-0448-4b7c-b519-91bf1de744b7",
   "metadata": {},
   "outputs": [
    {
     "data": {
      "text/plain": [
       "{'Ronaldo': ['07', 'Al-nassr'],\n",
       " 'Messi': ['10', 'Inter Miami'],\n",
       " 'Neymar': ['10', 'Al Hilal']}"
      ]
     },
     "execution_count": 11,
     "metadata": {},
     "output_type": "execute_result"
    }
   ],
   "source": [
    "football"
   ]
  },
  {
   "cell_type": "code",
   "execution_count": 21,
   "id": "723cb560-3775-4ba2-9421-b04d89f3df3c",
   "metadata": {},
   "outputs": [],
   "source": [
    "f=pd.DataFrame(football,index=['jersey number','club'])"
   ]
  },
  {
   "cell_type": "code",
   "execution_count": 23,
   "id": "37ea494d-ab77-4d30-acdd-3efdf1cbce6b",
   "metadata": {},
   "outputs": [
    {
     "data": {
      "text/html": [
       "<div>\n",
       "<style scoped>\n",
       "    .dataframe tbody tr th:only-of-type {\n",
       "        vertical-align: middle;\n",
       "    }\n",
       "\n",
       "    .dataframe tbody tr th {\n",
       "        vertical-align: top;\n",
       "    }\n",
       "\n",
       "    .dataframe thead th {\n",
       "        text-align: right;\n",
       "    }\n",
       "</style>\n",
       "<table border=\"1\" class=\"dataframe\">\n",
       "  <thead>\n",
       "    <tr style=\"text-align: right;\">\n",
       "      <th></th>\n",
       "      <th>Ronaldo</th>\n",
       "      <th>Messi</th>\n",
       "      <th>Neymar</th>\n",
       "    </tr>\n",
       "  </thead>\n",
       "  <tbody>\n",
       "    <tr>\n",
       "      <th>jersey number</th>\n",
       "      <td>07</td>\n",
       "      <td>10</td>\n",
       "      <td>10</td>\n",
       "    </tr>\n",
       "    <tr>\n",
       "      <th>club</th>\n",
       "      <td>Al-nassr</td>\n",
       "      <td>Inter Miami</td>\n",
       "      <td>Al Hilal</td>\n",
       "    </tr>\n",
       "  </tbody>\n",
       "</table>\n",
       "</div>"
      ],
      "text/plain": [
       "                Ronaldo        Messi    Neymar\n",
       "jersey number        07           10        10\n",
       "club           Al-nassr  Inter Miami  Al Hilal"
      ]
     },
     "execution_count": 23,
     "metadata": {},
     "output_type": "execute_result"
    }
   ],
   "source": [
    "f"
   ]
  },
  {
   "cell_type": "markdown",
   "id": "9656b1fe-c61c-491c-933e-fbb225f15810",
   "metadata": {},
   "source": [
    "## qstn3"
   ]
  },
  {
   "cell_type": "code",
   "execution_count": 52,
   "id": "009e6c48-2257-459d-b732-43f1e390ac72",
   "metadata": {},
   "outputs": [],
   "source": [
    "c={'India':'$3.937 trillion','United States':\"$28.78 trillion\",\"China\":\"$18.53 trillion\",\"Germany\":\"$4.59 trillion\",\"Japan\":\"$4.11 trillion\",\"United Kingdom\":\"$3.5 trillion\",\"France\":\"$3.13 trillion\",\"Brazil\":\"$2.33trillion\",\"Italy\":\"$2.32trillion\",\"Canada\":\"$2.24trillion\"}"
   ]
  },
  {
   "cell_type": "code",
   "execution_count": 54,
   "id": "24778ffc-2d0c-43f6-a245-e213b65a280e",
   "metadata": {},
   "outputs": [
    {
     "data": {
      "text/plain": [
       "{'India': '$3.937 trillion',\n",
       " 'United States': '$28.78 trillion',\n",
       " 'China': '$18.53 trillion',\n",
       " 'Germany': '$4.59 trillion',\n",
       " 'Japan': '$4.11 trillion',\n",
       " 'United Kingdom': '$3.5 trillion',\n",
       " 'France': '$3.13 trillion',\n",
       " 'Brazil': '$2.33trillion',\n",
       " 'Italy': '$2.32trillion',\n",
       " 'Canada': '$2.24trillion'}"
      ]
     },
     "execution_count": 54,
     "metadata": {},
     "output_type": "execute_result"
    }
   ],
   "source": [
    "c"
   ]
  },
  {
   "cell_type": "code",
   "execution_count": 65,
   "id": "6ed3489d-bee9-49e1-ae2b-252931a101bb",
   "metadata": {},
   "outputs": [],
   "source": [
    "gdp=pd.DataFrame(c,index=['GDP'])"
   ]
  },
  {
   "cell_type": "code",
   "execution_count": 67,
   "id": "f9b7a9a9-04d3-4201-b6ec-b35d2257d295",
   "metadata": {},
   "outputs": [
    {
     "data": {
      "text/html": [
       "<div>\n",
       "<style scoped>\n",
       "    .dataframe tbody tr th:only-of-type {\n",
       "        vertical-align: middle;\n",
       "    }\n",
       "\n",
       "    .dataframe tbody tr th {\n",
       "        vertical-align: top;\n",
       "    }\n",
       "\n",
       "    .dataframe thead th {\n",
       "        text-align: right;\n",
       "    }\n",
       "</style>\n",
       "<table border=\"1\" class=\"dataframe\">\n",
       "  <thead>\n",
       "    <tr style=\"text-align: right;\">\n",
       "      <th></th>\n",
       "      <th>India</th>\n",
       "      <th>United States</th>\n",
       "      <th>China</th>\n",
       "      <th>Germany</th>\n",
       "      <th>Japan</th>\n",
       "      <th>United Kingdom</th>\n",
       "      <th>France</th>\n",
       "      <th>Brazil</th>\n",
       "      <th>Italy</th>\n",
       "      <th>Canada</th>\n",
       "    </tr>\n",
       "  </thead>\n",
       "  <tbody>\n",
       "    <tr>\n",
       "      <th>GDP</th>\n",
       "      <td>$3.937 trillion</td>\n",
       "      <td>$28.78 trillion</td>\n",
       "      <td>$18.53 trillion</td>\n",
       "      <td>$4.59 trillion</td>\n",
       "      <td>$4.11 trillion</td>\n",
       "      <td>$3.5 trillion</td>\n",
       "      <td>$3.13 trillion</td>\n",
       "      <td>$2.33trillion</td>\n",
       "      <td>$2.32trillion</td>\n",
       "      <td>$2.24trillion</td>\n",
       "    </tr>\n",
       "  </tbody>\n",
       "</table>\n",
       "</div>"
      ],
      "text/plain": [
       "               India    United States            China         Germany  \\\n",
       "GDP  $3.937 trillion  $28.78 trillion  $18.53 trillion  $4.59 trillion   \n",
       "\n",
       "              Japan United Kingdom          France         Brazil  \\\n",
       "GDP  $4.11 trillion  $3.5 trillion  $3.13 trillion  $2.33trillion   \n",
       "\n",
       "             Italy         Canada  \n",
       "GDP  $2.32trillion  $2.24trillion  "
      ]
     },
     "execution_count": 67,
     "metadata": {},
     "output_type": "execute_result"
    }
   ],
   "source": [
    "gdp"
   ]
  },
  {
   "cell_type": "code",
   "execution_count": 85,
   "id": "17fc1953-60c1-4b34-835e-f6ebc7d3b1a6",
   "metadata": {},
   "outputs": [],
   "source": [
    "highest=gdp.iloc[0,1]"
   ]
  },
  {
   "cell_type": "code",
   "execution_count": 87,
   "id": "6617aa0d-9e75-4008-91d2-9ad4754aeb53",
   "metadata": {},
   "outputs": [
    {
     "data": {
      "text/plain": [
       "'$28.78 trillion'"
      ]
     },
     "execution_count": 87,
     "metadata": {},
     "output_type": "execute_result"
    }
   ],
   "source": [
    "highest"
   ]
  },
  {
   "cell_type": "code",
   "execution_count": 89,
   "id": "d537d58c-9121-44d6-a707-d81c1d659ff9",
   "metadata": {},
   "outputs": [],
   "source": [
    "lowest=gdp.iloc[0,9]"
   ]
  },
  {
   "cell_type": "code",
   "execution_count": 101,
   "id": "e0e038bb-3c5c-4199-b7d2-544b50c1087e",
   "metadata": {},
   "outputs": [
    {
     "data": {
      "text/plain": [
       "'$2.24trillion'"
      ]
     },
     "execution_count": 101,
     "metadata": {},
     "output_type": "execute_result"
    }
   ],
   "source": [
    "lowest"
   ]
  },
  {
   "cell_type": "code",
   "execution_count": 117,
   "id": "330a0ee9-aaf4-40f7-8908-596f8daa7e9e",
   "metadata": {},
   "outputs": [
    {
     "ename": "SyntaxError",
     "evalue": "invalid syntax (3036309058.py, line 1)",
     "output_type": "error",
     "traceback": [
      "\u001b[1;36m  Cell \u001b[1;32mIn[117], line 1\u001b[1;36m\u001b[0m\n\u001b[1;33m    below ave=gdp.iloc[[0],0,5,6,7,8,9]\u001b[0m\n\u001b[1;37m          ^\u001b[0m\n\u001b[1;31mSyntaxError\u001b[0m\u001b[1;31m:\u001b[0m invalid syntax\n"
     ]
    }
   ],
   "source": [
    "below ave=gdp.iloc[[0],0,5,6,7,8,9]"
   ]
  },
  {
   "cell_type": "code",
   "execution_count": 119,
   "id": "18bbfc41-4101-40e8-9961-ee8be2cdcb20",
   "metadata": {},
   "outputs": [
    {
     "data": {
      "text/html": [
       "<div>\n",
       "<style scoped>\n",
       "    .dataframe tbody tr th:only-of-type {\n",
       "        vertical-align: middle;\n",
       "    }\n",
       "\n",
       "    .dataframe tbody tr th {\n",
       "        vertical-align: top;\n",
       "    }\n",
       "\n",
       "    .dataframe thead th {\n",
       "        text-align: right;\n",
       "    }\n",
       "</style>\n",
       "<table border=\"1\" class=\"dataframe\">\n",
       "  <thead>\n",
       "    <tr style=\"text-align: right;\">\n",
       "      <th></th>\n",
       "      <th>India</th>\n",
       "      <th>United States</th>\n",
       "      <th>China</th>\n",
       "      <th>Germany</th>\n",
       "      <th>Japan</th>\n",
       "      <th>United Kingdom</th>\n",
       "      <th>France</th>\n",
       "      <th>Brazil</th>\n",
       "      <th>Italy</th>\n",
       "      <th>Canada</th>\n",
       "    </tr>\n",
       "  </thead>\n",
       "  <tbody>\n",
       "  </tbody>\n",
       "</table>\n",
       "</div>"
      ],
      "text/plain": [
       "Empty DataFrame\n",
       "Columns: [India, United States, China, Germany, Japan, United Kingdom, France, Brazil, Italy, Canada]\n",
       "Index: []"
      ]
     },
     "execution_count": 119,
     "metadata": {},
     "output_type": "execute_result"
    }
   ],
   "source": [
    "average"
   ]
  },
  {
   "cell_type": "code",
   "execution_count": null,
   "id": "512f58ca-8a0c-4edc-9370-25f07c3923ef",
   "metadata": {},
   "outputs": [],
   "source": []
  }
 ],
 "metadata": {
  "kernelspec": {
   "display_name": "Python 3 (ipykernel)",
   "language": "python",
   "name": "python3"
  },
  "language_info": {
   "codemirror_mode": {
    "name": "ipython",
    "version": 3
   },
   "file_extension": ".py",
   "mimetype": "text/x-python",
   "name": "python",
   "nbconvert_exporter": "python",
   "pygments_lexer": "ipython3",
   "version": "3.12.4"
  }
 },
 "nbformat": 4,
 "nbformat_minor": 5
}
