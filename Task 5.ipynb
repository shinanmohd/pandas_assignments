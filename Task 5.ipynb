{
 "cells": [
  {
   "cell_type": "code",
   "execution_count": 4,
   "id": "00e23e14-0b69-458f-a755-ad5514f0f417",
   "metadata": {},
   "outputs": [],
   "source": [
    "import pandas as pd"
   ]
  },
  {
   "cell_type": "code",
   "execution_count": 6,
   "id": "caf47981-6859-4de4-8695-44551f5da6f2",
   "metadata": {},
   "outputs": [],
   "source": [
    "survey=pd.read_csv(r'C:\\Users\\hp\\Data Analyst\\pandas_docs\\stack-overflow-developer-survey-2019/survey_results_public.csv')"
   ]
  },
  {
   "cell_type": "markdown",
   "id": "2e000c0c-ab8e-4c6e-841b-5045fccae7e5",
   "metadata": {},
   "source": [
    "### 1.SAARC members are there in the dataset"
   ]
  },
  {
   "cell_type": "code",
   "execution_count": 29,
   "id": "c1b7fe66-6a8a-41ab-a8dd-4539c42627cd",
   "metadata": {},
   "outputs": [],
   "source": [
    "a=['Sri Lanka','Pakistan','Nepal','Maldives','India','Bhutan','Bangladesh','Afghanistan']"
   ]
  },
  {
   "cell_type": "code",
   "execution_count": 39,
   "id": "1084da67-d998-411b-a288-6bcc217a2308",
   "metadata": {},
   "outputs": [
    {
     "data": {
      "text/plain": [
       "7             India\n",
       "9             India\n",
       "14            India\n",
       "33        Sri Lanka\n",
       "41       Bangladesh\n",
       "            ...    \n",
       "88834    Bangladesh\n",
       "88852         India\n",
       "88853         India\n",
       "88864         India\n",
       "88875      Pakistan\n",
       "Name: Country, Length: 11257, dtype: object"
      ]
     },
     "execution_count": 39,
     "metadata": {},
     "output_type": "execute_result"
    }
   ],
   "source": [
    "b=survey.loc[survey['Country'].isin(a),'Country']\n",
    "b"
   ]
  },
  {
   "cell_type": "code",
   "execution_count": 41,
   "id": "a68483c1-eb19-497c-be8a-b7e1983439a6",
   "metadata": {},
   "outputs": [
    {
     "data": {
      "text/plain": [
       "array(['India', 'Sri Lanka', 'Bangladesh', 'Pakistan', 'Nepal',\n",
       "       'Afghanistan', 'Maldives', 'Bhutan'], dtype=object)"
      ]
     },
     "execution_count": 41,
     "metadata": {},
     "output_type": "execute_result"
    }
   ],
   "source": [
    "b.unique()"
   ]
  },
  {
   "cell_type": "markdown",
   "id": "6695698a-e936-4953-b1f1-effd4ccad25a",
   "metadata": {},
   "source": [
    "### 2.OPEC 5 members in the dataset"
   ]
  },
  {
   "cell_type": "code",
   "execution_count": 43,
   "id": "3b64d55c-5561-4819-b1bc-0844eb3587f9",
   "metadata": {},
   "outputs": [],
   "source": [
    "c=['Saudi Arabia','Nigeria','United Arab Emarites','Iraq','Iran']"
   ]
  },
  {
   "cell_type": "code",
   "execution_count": 47,
   "id": "5acd43d2-6e19-45d1-82de-15d1345f9e27",
   "metadata": {},
   "outputs": [
    {
     "data": {
      "text/plain": [
       "161              Iran\n",
       "203           Nigeria\n",
       "346           Nigeria\n",
       "363           Nigeria\n",
       "443              Iran\n",
       "             ...     \n",
       "88672            Iraq\n",
       "88700    Saudi Arabia\n",
       "88807         Nigeria\n",
       "88823         Nigeria\n",
       "88867         Nigeria\n",
       "Name: Country, Length: 1397, dtype: object"
      ]
     },
     "execution_count": 47,
     "metadata": {},
     "output_type": "execute_result"
    }
   ],
   "source": [
    "d=survey.loc[survey['Country'].isin(c),'Country']\n",
    "d"
   ]
  },
  {
   "cell_type": "code",
   "execution_count": 49,
   "id": "0837ed9b-d5b6-41c4-a1b9-36c92ee356f9",
   "metadata": {},
   "outputs": [
    {
     "data": {
      "text/plain": [
       "array(['Iran', 'Nigeria', 'Saudi Arabia', 'Iraq'], dtype=object)"
      ]
     },
     "execution_count": 49,
     "metadata": {},
     "output_type": "execute_result"
    }
   ],
   "source": [
    "d.unique()"
   ]
  },
  {
   "cell_type": "code",
   "execution_count": null,
   "id": "1a110bd6-55ea-40e4-836e-42926720664f",
   "metadata": {},
   "outputs": [],
   "source": []
  }
 ],
 "metadata": {
  "kernelspec": {
   "display_name": "Python 3 (ipykernel)",
   "language": "python",
   "name": "python3"
  },
  "language_info": {
   "codemirror_mode": {
    "name": "ipython",
    "version": 3
   },
   "file_extension": ".py",
   "mimetype": "text/x-python",
   "name": "python",
   "nbconvert_exporter": "python",
   "pygments_lexer": "ipython3",
   "version": "3.12.4"
  }
 },
 "nbformat": 4,
 "nbformat_minor": 5
}
