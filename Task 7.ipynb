{
 "cells": [
  {
   "cell_type": "code",
   "execution_count": 1,
   "id": "39caa7aa-cd2c-45a8-ac11-6e904063e45f",
   "metadata": {},
   "outputs": [],
   "source": [
    "import pandas as pd"
   ]
  },
  {
   "cell_type": "code",
   "execution_count": 45,
   "id": "a6438702-8212-414c-a760-f2875fcba16c",
   "metadata": {},
   "outputs": [],
   "source": [
    "cer=pd.read_csv(r\"C:\\Users\\hp\\Data Analyst\\csv\\cereals.csv.xls\")"
   ]
  },
  {
   "cell_type": "code",
   "execution_count": 47,
   "id": "3edd5666-7bf5-4c96-bc4a-cd14da058b6e",
   "metadata": {},
   "outputs": [
    {
     "data": {
      "text/html": [
       "<div>\n",
       "<style scoped>\n",
       "    .dataframe tbody tr th:only-of-type {\n",
       "        vertical-align: middle;\n",
       "    }\n",
       "\n",
       "    .dataframe tbody tr th {\n",
       "        vertical-align: top;\n",
       "    }\n",
       "\n",
       "    .dataframe thead th {\n",
       "        text-align: right;\n",
       "    }\n",
       "</style>\n",
       "<table border=\"1\" class=\"dataframe\">\n",
       "  <thead>\n",
       "    <tr style=\"text-align: right;\">\n",
       "      <th></th>\n",
       "      <th>Name</th>\n",
       "      <th>Manufacturer</th>\n",
       "      <th>Type</th>\n",
       "      <th>Calories</th>\n",
       "      <th>Fiber</th>\n",
       "      <th>Sugars</th>\n",
       "    </tr>\n",
       "  </thead>\n",
       "  <tbody>\n",
       "    <tr>\n",
       "      <th>0</th>\n",
       "      <td>100% Bran</td>\n",
       "      <td>Nabisco</td>\n",
       "      <td>Cold</td>\n",
       "      <td>70</td>\n",
       "      <td>10.0</td>\n",
       "      <td>6</td>\n",
       "    </tr>\n",
       "    <tr>\n",
       "      <th>1</th>\n",
       "      <td>100% Natural Bran</td>\n",
       "      <td>Quaker Oats</td>\n",
       "      <td>Cold</td>\n",
       "      <td>120</td>\n",
       "      <td>2.0</td>\n",
       "      <td>8</td>\n",
       "    </tr>\n",
       "    <tr>\n",
       "      <th>2</th>\n",
       "      <td>All-Bran</td>\n",
       "      <td>Kellogg's</td>\n",
       "      <td>Cold</td>\n",
       "      <td>70</td>\n",
       "      <td>9.0</td>\n",
       "      <td>5</td>\n",
       "    </tr>\n",
       "    <tr>\n",
       "      <th>3</th>\n",
       "      <td>All-Bran with Extra Fiber</td>\n",
       "      <td>Kellogg's</td>\n",
       "      <td>Cold</td>\n",
       "      <td>50</td>\n",
       "      <td>14.0</td>\n",
       "      <td>0</td>\n",
       "    </tr>\n",
       "    <tr>\n",
       "      <th>4</th>\n",
       "      <td>Almond Delight</td>\n",
       "      <td>Ralston Purina</td>\n",
       "      <td>Cold</td>\n",
       "      <td>110</td>\n",
       "      <td>1.0</td>\n",
       "      <td>8</td>\n",
       "    </tr>\n",
       "    <tr>\n",
       "      <th>...</th>\n",
       "      <td>...</td>\n",
       "      <td>...</td>\n",
       "      <td>...</td>\n",
       "      <td>...</td>\n",
       "      <td>...</td>\n",
       "      <td>...</td>\n",
       "    </tr>\n",
       "    <tr>\n",
       "      <th>72</th>\n",
       "      <td>Triples</td>\n",
       "      <td>General Mills</td>\n",
       "      <td>Cold</td>\n",
       "      <td>110</td>\n",
       "      <td>0.0</td>\n",
       "      <td>3</td>\n",
       "    </tr>\n",
       "    <tr>\n",
       "      <th>73</th>\n",
       "      <td>Trix</td>\n",
       "      <td>General Mills</td>\n",
       "      <td>Cold</td>\n",
       "      <td>110</td>\n",
       "      <td>0.0</td>\n",
       "      <td>12</td>\n",
       "    </tr>\n",
       "    <tr>\n",
       "      <th>74</th>\n",
       "      <td>Wheat Chex</td>\n",
       "      <td>Ralston Purina</td>\n",
       "      <td>Cold</td>\n",
       "      <td>100</td>\n",
       "      <td>3.0</td>\n",
       "      <td>3</td>\n",
       "    </tr>\n",
       "    <tr>\n",
       "      <th>75</th>\n",
       "      <td>Wheaties</td>\n",
       "      <td>General Mills</td>\n",
       "      <td>Cold</td>\n",
       "      <td>100</td>\n",
       "      <td>3.0</td>\n",
       "      <td>3</td>\n",
       "    </tr>\n",
       "    <tr>\n",
       "      <th>76</th>\n",
       "      <td>Wheaties Honey Gold</td>\n",
       "      <td>General Mills</td>\n",
       "      <td>Cold</td>\n",
       "      <td>110</td>\n",
       "      <td>1.0</td>\n",
       "      <td>8</td>\n",
       "    </tr>\n",
       "  </tbody>\n",
       "</table>\n",
       "<p>77 rows × 6 columns</p>\n",
       "</div>"
      ],
      "text/plain": [
       "                         Name    Manufacturer  Type  Calories  Fiber  Sugars\n",
       "0                   100% Bran         Nabisco  Cold        70   10.0       6\n",
       "1           100% Natural Bran     Quaker Oats  Cold       120    2.0       8\n",
       "2                    All-Bran       Kellogg's  Cold        70    9.0       5\n",
       "3   All-Bran with Extra Fiber       Kellogg's  Cold        50   14.0       0\n",
       "4              Almond Delight  Ralston Purina  Cold       110    1.0       8\n",
       "..                        ...             ...   ...       ...    ...     ...\n",
       "72                    Triples   General Mills  Cold       110    0.0       3\n",
       "73                       Trix   General Mills  Cold       110    0.0      12\n",
       "74                 Wheat Chex  Ralston Purina  Cold       100    3.0       3\n",
       "75                   Wheaties   General Mills  Cold       100    3.0       3\n",
       "76        Wheaties Honey Gold   General Mills  Cold       110    1.0       8\n",
       "\n",
       "[77 rows x 6 columns]"
      ]
     },
     "execution_count": 47,
     "metadata": {},
     "output_type": "execute_result"
    }
   ],
   "source": [
    "cer"
   ]
  },
  {
   "cell_type": "markdown",
   "id": "6745027c-3b27-4730-ad6f-f9aed1d52c3f",
   "metadata": {},
   "source": [
    "### 1- Group the cereals, using the Manufacturer column's values."
   ]
  },
  {
   "cell_type": "code",
   "execution_count": 50,
   "id": "6b8b134d-1857-43d4-b949-8d1c8d40cf86",
   "metadata": {},
   "outputs": [],
   "source": [
    "cereals=cer.groupby('Manufacturer')"
   ]
  },
  {
   "cell_type": "code",
   "execution_count": 43,
   "id": "48d04a2e-8217-43cd-b5ed-e6d6476ce273",
   "metadata": {},
   "outputs": [
    {
     "data": {
      "text/html": [
       "<div>\n",
       "<style scoped>\n",
       "    .dataframe tbody tr th:only-of-type {\n",
       "        vertical-align: middle;\n",
       "    }\n",
       "\n",
       "    .dataframe tbody tr th {\n",
       "        vertical-align: top;\n",
       "    }\n",
       "\n",
       "    .dataframe thead th {\n",
       "        text-align: right;\n",
       "    }\n",
       "</style>\n",
       "<table border=\"1\" class=\"dataframe\">\n",
       "  <thead>\n",
       "    <tr style=\"text-align: right;\">\n",
       "      <th></th>\n",
       "      <th>Name</th>\n",
       "      <th>Type</th>\n",
       "    </tr>\n",
       "  </thead>\n",
       "  <tbody>\n",
       "    <tr>\n",
       "      <th>5</th>\n",
       "      <td>Apple Cinnamon Cheerios</td>\n",
       "      <td>Cold</td>\n",
       "    </tr>\n",
       "    <tr>\n",
       "      <th>7</th>\n",
       "      <td>Basic 4</td>\n",
       "      <td>Cold</td>\n",
       "    </tr>\n",
       "    <tr>\n",
       "      <th>11</th>\n",
       "      <td>Cheerios</td>\n",
       "      <td>Cold</td>\n",
       "    </tr>\n",
       "    <tr>\n",
       "      <th>12</th>\n",
       "      <td>Cinnamon Toast Crunch</td>\n",
       "      <td>Cold</td>\n",
       "    </tr>\n",
       "    <tr>\n",
       "      <th>13</th>\n",
       "      <td>Clusters</td>\n",
       "      <td>Cold</td>\n",
       "    </tr>\n",
       "    <tr>\n",
       "      <th>14</th>\n",
       "      <td>Cocoa Puffs</td>\n",
       "      <td>Cold</td>\n",
       "    </tr>\n",
       "    <tr>\n",
       "      <th>18</th>\n",
       "      <td>Count Chocula</td>\n",
       "      <td>Cold</td>\n",
       "    </tr>\n",
       "    <tr>\n",
       "      <th>22</th>\n",
       "      <td>Crispy Wheat &amp; Raisins</td>\n",
       "      <td>Cold</td>\n",
       "    </tr>\n",
       "    <tr>\n",
       "      <th>31</th>\n",
       "      <td>Golden Grahams</td>\n",
       "      <td>Cold</td>\n",
       "    </tr>\n",
       "    <tr>\n",
       "      <th>36</th>\n",
       "      <td>Honey Nut Cheerios</td>\n",
       "      <td>Cold</td>\n",
       "    </tr>\n",
       "    <tr>\n",
       "      <th>40</th>\n",
       "      <td>Kix</td>\n",
       "      <td>Cold</td>\n",
       "    </tr>\n",
       "    <tr>\n",
       "      <th>42</th>\n",
       "      <td>Lucky Charms</td>\n",
       "      <td>Cold</td>\n",
       "    </tr>\n",
       "    <tr>\n",
       "      <th>47</th>\n",
       "      <td>Multi-Grain Cheerios</td>\n",
       "      <td>Cold</td>\n",
       "    </tr>\n",
       "    <tr>\n",
       "      <th>51</th>\n",
       "      <td>Oatmeal Raisin Crisp</td>\n",
       "      <td>Cold</td>\n",
       "    </tr>\n",
       "    <tr>\n",
       "      <th>59</th>\n",
       "      <td>Raisin Nut Bran</td>\n",
       "      <td>Cold</td>\n",
       "    </tr>\n",
       "    <tr>\n",
       "      <th>69</th>\n",
       "      <td>Total Corn Flakes</td>\n",
       "      <td>Cold</td>\n",
       "    </tr>\n",
       "    <tr>\n",
       "      <th>70</th>\n",
       "      <td>Total Raisin Bran</td>\n",
       "      <td>Cold</td>\n",
       "    </tr>\n",
       "    <tr>\n",
       "      <th>71</th>\n",
       "      <td>Total Whole Grain</td>\n",
       "      <td>Cold</td>\n",
       "    </tr>\n",
       "    <tr>\n",
       "      <th>72</th>\n",
       "      <td>Triples</td>\n",
       "      <td>Cold</td>\n",
       "    </tr>\n",
       "    <tr>\n",
       "      <th>73</th>\n",
       "      <td>Trix</td>\n",
       "      <td>Cold</td>\n",
       "    </tr>\n",
       "    <tr>\n",
       "      <th>75</th>\n",
       "      <td>Wheaties</td>\n",
       "      <td>Cold</td>\n",
       "    </tr>\n",
       "    <tr>\n",
       "      <th>76</th>\n",
       "      <td>Wheaties Honey Gold</td>\n",
       "      <td>Cold</td>\n",
       "    </tr>\n",
       "  </tbody>\n",
       "</table>\n",
       "</div>"
      ],
      "text/plain": [
       "                       Name  Type\n",
       "5   Apple Cinnamon Cheerios  Cold\n",
       "7                   Basic 4  Cold\n",
       "11                 Cheerios  Cold\n",
       "12    Cinnamon Toast Crunch  Cold\n",
       "13                 Clusters  Cold\n",
       "14              Cocoa Puffs  Cold\n",
       "18            Count Chocula  Cold\n",
       "22   Crispy Wheat & Raisins  Cold\n",
       "31           Golden Grahams  Cold\n",
       "36       Honey Nut Cheerios  Cold\n",
       "40                      Kix  Cold\n",
       "42             Lucky Charms  Cold\n",
       "47     Multi-Grain Cheerios  Cold\n",
       "51     Oatmeal Raisin Crisp  Cold\n",
       "59          Raisin Nut Bran  Cold\n",
       "69        Total Corn Flakes  Cold\n",
       "70        Total Raisin Bran  Cold\n",
       "71        Total Whole Grain  Cold\n",
       "72                  Triples  Cold\n",
       "73                     Trix  Cold\n",
       "75                 Wheaties  Cold\n",
       "76      Wheaties Honey Gold  Cold"
      ]
     },
     "execution_count": 43,
     "metadata": {},
     "output_type": "execute_result"
    }
   ],
   "source": [
    "cereals.get_group('General Mills')[['Name','Type']]"
   ]
  },
  {
   "cell_type": "markdown",
   "id": "b271a91e-7c07-4673-80d7-068f9b5a7bb3",
   "metadata": {},
   "source": [
    "### 2- Determine the total number of groups, and the number of cereals per group."
   ]
  },
  {
   "cell_type": "code",
   "execution_count": 54,
   "id": "d147b3b1-cd86-4f07-bcec-38eff04eaa22",
   "metadata": {},
   "outputs": [
    {
     "data": {
      "text/plain": [
       "7"
      ]
     },
     "execution_count": 54,
     "metadata": {},
     "output_type": "execute_result"
    }
   ],
   "source": [
    "len('cereals')"
   ]
  },
  {
   "cell_type": "code",
   "execution_count": 56,
   "id": "36a8e9ff-831b-4e2d-ae7f-c9a62a2f0ece",
   "metadata": {},
   "outputs": [
    {
     "data": {
      "text/plain": [
       "Manufacturer\n",
       "American Home Food Products     1\n",
       "General Mills                  22\n",
       "Kellogg's                      23\n",
       "Nabisco                         6\n",
       "Post                            9\n",
       "Quaker Oats                     8\n",
       "Ralston Purina                  8\n",
       "dtype: int64"
      ]
     },
     "execution_count": 56,
     "metadata": {},
     "output_type": "execute_result"
    }
   ],
   "source": [
    "cereals.size()"
   ]
  },
  {
   "cell_type": "markdown",
   "id": "4f40a237-691f-47cb-9a25-cf521285820e",
   "metadata": {},
   "source": [
    "### 3- Extract the cereals that belong to the manufacturer group \"Nabisco\""
   ]
  },
  {
   "cell_type": "code",
   "execution_count": 28,
   "id": "d950cae1-1783-4e61-b7fa-77f80df96e11",
   "metadata": {},
   "outputs": [
    {
     "data": {
      "text/html": [
       "<div>\n",
       "<style scoped>\n",
       "    .dataframe tbody tr th:only-of-type {\n",
       "        vertical-align: middle;\n",
       "    }\n",
       "\n",
       "    .dataframe tbody tr th {\n",
       "        vertical-align: top;\n",
       "    }\n",
       "\n",
       "    .dataframe thead th {\n",
       "        text-align: right;\n",
       "    }\n",
       "</style>\n",
       "<table border=\"1\" class=\"dataframe\">\n",
       "  <thead>\n",
       "    <tr style=\"text-align: right;\">\n",
       "      <th></th>\n",
       "      <th>Name</th>\n",
       "      <th>Manufacturer</th>\n",
       "      <th>Type</th>\n",
       "      <th>Calories</th>\n",
       "      <th>Fiber</th>\n",
       "      <th>Sugars</th>\n",
       "    </tr>\n",
       "  </thead>\n",
       "  <tbody>\n",
       "    <tr>\n",
       "      <th>0</th>\n",
       "      <td>100% Bran</td>\n",
       "      <td>Nabisco</td>\n",
       "      <td>Cold</td>\n",
       "      <td>70</td>\n",
       "      <td>10.0</td>\n",
       "      <td>6</td>\n",
       "    </tr>\n",
       "    <tr>\n",
       "      <th>20</th>\n",
       "      <td>Cream of Wheat (Quick)</td>\n",
       "      <td>Nabisco</td>\n",
       "      <td>Hot</td>\n",
       "      <td>100</td>\n",
       "      <td>1.0</td>\n",
       "      <td>0</td>\n",
       "    </tr>\n",
       "    <tr>\n",
       "      <th>63</th>\n",
       "      <td>Shredded Wheat</td>\n",
       "      <td>Nabisco</td>\n",
       "      <td>Cold</td>\n",
       "      <td>80</td>\n",
       "      <td>3.0</td>\n",
       "      <td>0</td>\n",
       "    </tr>\n",
       "    <tr>\n",
       "      <th>64</th>\n",
       "      <td>Shredded Wheat 'n'Bran</td>\n",
       "      <td>Nabisco</td>\n",
       "      <td>Cold</td>\n",
       "      <td>90</td>\n",
       "      <td>4.0</td>\n",
       "      <td>0</td>\n",
       "    </tr>\n",
       "    <tr>\n",
       "      <th>65</th>\n",
       "      <td>Shredded Wheat spoon size</td>\n",
       "      <td>Nabisco</td>\n",
       "      <td>Cold</td>\n",
       "      <td>90</td>\n",
       "      <td>3.0</td>\n",
       "      <td>0</td>\n",
       "    </tr>\n",
       "    <tr>\n",
       "      <th>68</th>\n",
       "      <td>Strawberry Fruit Wheats</td>\n",
       "      <td>Nabisco</td>\n",
       "      <td>Cold</td>\n",
       "      <td>90</td>\n",
       "      <td>3.0</td>\n",
       "      <td>5</td>\n",
       "    </tr>\n",
       "  </tbody>\n",
       "</table>\n",
       "</div>"
      ],
      "text/plain": [
       "                         Name Manufacturer  Type  Calories  Fiber  Sugars\n",
       "0                   100% Bran      Nabisco  Cold        70   10.0       6\n",
       "20     Cream of Wheat (Quick)      Nabisco   Hot       100    1.0       0\n",
       "63             Shredded Wheat      Nabisco  Cold        80    3.0       0\n",
       "64     Shredded Wheat 'n'Bran      Nabisco  Cold        90    4.0       0\n",
       "65  Shredded Wheat spoon size      Nabisco  Cold        90    3.0       0\n",
       "68    Strawberry Fruit Wheats      Nabisco  Cold        90    3.0       5"
      ]
     },
     "execution_count": 28,
     "metadata": {},
     "output_type": "execute_result"
    }
   ],
   "source": [
    "cereals.get_group('Nabisco')"
   ]
  },
  {
   "cell_type": "markdown",
   "id": "9a82c30b-c0c4-447e-a969-cb30ee04ff24",
   "metadata": {},
   "source": [
    "### 4- Calculate the average of values in the Calories, Fiber, and Sugars columns for each manufacturer."
   ]
  },
  {
   "cell_type": "code",
   "execution_count": 39,
   "id": "7ba981e7-facb-49ff-9907-7bec89648ff2",
   "metadata": {},
   "outputs": [
    {
     "data": {
      "text/html": [
       "<div>\n",
       "<style scoped>\n",
       "    .dataframe tbody tr th:only-of-type {\n",
       "        vertical-align: middle;\n",
       "    }\n",
       "\n",
       "    .dataframe tbody tr th {\n",
       "        vertical-align: top;\n",
       "    }\n",
       "\n",
       "    .dataframe thead th {\n",
       "        text-align: right;\n",
       "    }\n",
       "</style>\n",
       "<table border=\"1\" class=\"dataframe\">\n",
       "  <thead>\n",
       "    <tr style=\"text-align: right;\">\n",
       "      <th></th>\n",
       "      <th>Calories</th>\n",
       "      <th>Fiber</th>\n",
       "      <th>Sugars</th>\n",
       "    </tr>\n",
       "    <tr>\n",
       "      <th>Manufacturer</th>\n",
       "      <th></th>\n",
       "      <th></th>\n",
       "      <th></th>\n",
       "    </tr>\n",
       "  </thead>\n",
       "  <tbody>\n",
       "    <tr>\n",
       "      <th>American Home Food Products</th>\n",
       "      <td>100.000000</td>\n",
       "      <td>0.000000</td>\n",
       "      <td>3.000000</td>\n",
       "    </tr>\n",
       "    <tr>\n",
       "      <th>General Mills</th>\n",
       "      <td>111.363636</td>\n",
       "      <td>1.272727</td>\n",
       "      <td>7.954545</td>\n",
       "    </tr>\n",
       "    <tr>\n",
       "      <th>Kellogg's</th>\n",
       "      <td>108.695652</td>\n",
       "      <td>2.739130</td>\n",
       "      <td>7.565217</td>\n",
       "    </tr>\n",
       "    <tr>\n",
       "      <th>Nabisco</th>\n",
       "      <td>86.666667</td>\n",
       "      <td>4.000000</td>\n",
       "      <td>1.833333</td>\n",
       "    </tr>\n",
       "    <tr>\n",
       "      <th>Post</th>\n",
       "      <td>108.888889</td>\n",
       "      <td>2.777778</td>\n",
       "      <td>8.777778</td>\n",
       "    </tr>\n",
       "    <tr>\n",
       "      <th>Quaker Oats</th>\n",
       "      <td>95.000000</td>\n",
       "      <td>1.337500</td>\n",
       "      <td>5.250000</td>\n",
       "    </tr>\n",
       "    <tr>\n",
       "      <th>Ralston Purina</th>\n",
       "      <td>115.000000</td>\n",
       "      <td>1.875000</td>\n",
       "      <td>6.125000</td>\n",
       "    </tr>\n",
       "  </tbody>\n",
       "</table>\n",
       "</div>"
      ],
      "text/plain": [
       "                               Calories     Fiber    Sugars\n",
       "Manufacturer                                               \n",
       "American Home Food Products  100.000000  0.000000  3.000000\n",
       "General Mills                111.363636  1.272727  7.954545\n",
       "Kellogg's                    108.695652  2.739130  7.565217\n",
       "Nabisco                       86.666667  4.000000  1.833333\n",
       "Post                         108.888889  2.777778  8.777778\n",
       "Quaker Oats                   95.000000  1.337500  5.250000\n",
       "Ralston Purina               115.000000  1.875000  6.125000"
      ]
     },
     "execution_count": 39,
     "metadata": {},
     "output_type": "execute_result"
    }
   ],
   "source": [
    "cereals[['Calories','Fiber','Sugars']].mean()"
   ]
  },
  {
   "cell_type": "markdown",
   "id": "7dc95844-b8e3-4af2-8eb3-d96045d67e30",
   "metadata": {},
   "source": [
    "### 5- Find the maximum value in the Sugars column for each manufacturer."
   ]
  },
  {
   "cell_type": "code",
   "execution_count": 43,
   "id": "da6cee78-c59c-4f2f-b748-0672da4d6ef3",
   "metadata": {},
   "outputs": [
    {
     "data": {
      "text/plain": [
       "Manufacturer\n",
       "American Home Food Products     3\n",
       "General Mills                  14\n",
       "Kellogg's                      15\n",
       "Nabisco                         6\n",
       "Post                           15\n",
       "Quaker Oats                    12\n",
       "Ralston Purina                 11\n",
       "Name: Sugars, dtype: int64"
      ]
     },
     "execution_count": 43,
     "metadata": {},
     "output_type": "execute_result"
    }
   ],
   "source": [
    "cereals['Sugars'].max()"
   ]
  },
  {
   "cell_type": "markdown",
   "id": "e18230d7-fdf6-4aee-b0dc-9c46035086b6",
   "metadata": {},
   "source": [
    "### 6 Find the minimum value in the Fiber column for each manufacturer."
   ]
  },
  {
   "cell_type": "code",
   "execution_count": 46,
   "id": "76b3fd22-e9fc-4d1b-9fa3-ea56afae4c78",
   "metadata": {},
   "outputs": [
    {
     "data": {
      "text/plain": [
       "Manufacturer\n",
       "American Home Food Products    0.0\n",
       "General Mills                  0.0\n",
       "Kellogg's                      0.0\n",
       "Nabisco                        1.0\n",
       "Post                           0.0\n",
       "Quaker Oats                    0.0\n",
       "Ralston Purina                 0.0\n",
       "Name: Fiber, dtype: float64"
      ]
     },
     "execution_count": 46,
     "metadata": {},
     "output_type": "execute_result"
    }
   ],
   "source": [
    "cereals['Fiber'].min()"
   ]
  },
  {
   "cell_type": "markdown",
   "id": "52a811ed-a9ac-45e7-afda-4d6b8dfe3880",
   "metadata": {},
   "source": [
    "### 7- Extract the cereal with the lowest amount of grams of sugar per manufacturer in a new DataFrame."
   ]
  },
  {
   "cell_type": "code",
   "execution_count": 58,
   "id": "9dc6cfdc-8d2a-4a31-8d4b-701173919fb4",
   "metadata": {},
   "outputs": [
    {
     "data": {
      "text/plain": [
       "Manufacturer\n",
       "American Home Food Products    3\n",
       "General Mills                  1\n",
       "Kellogg's                      0\n",
       "Nabisco                        0\n",
       "Post                           3\n",
       "Quaker Oats                   -1\n",
       "Ralston Purina                 2\n",
       "Name: Sugars, dtype: int64"
      ]
     },
     "execution_count": 58,
     "metadata": {},
     "output_type": "execute_result"
    }
   ],
   "source": [
    "k=cereals['Sugars'].min()\n",
    "k"
   ]
  },
  {
   "cell_type": "code",
   "execution_count": 62,
   "id": "bd7d8af3-2b43-4bcd-a6c4-5482e68b435a",
   "metadata": {},
   "outputs": [],
   "source": [
    "k.to_csv(r'C:\\Users\\hp\\Data Analyst\\csv\\new.csv')"
   ]
  },
  {
   "cell_type": "code",
   "execution_count": 64,
   "id": "f01e7ce5-74f0-43f9-9d55-1962009f0c37",
   "metadata": {},
   "outputs": [],
   "source": [
    "s=pd.read_csv(r'C:\\Users\\hp\\Data Analyst\\csv\\new.csv')"
   ]
  },
  {
   "cell_type": "code",
   "execution_count": 72,
   "id": "0e8e7c17-5005-40fa-b380-4c3bb84f669b",
   "metadata": {},
   "outputs": [
    {
     "data": {
      "text/plain": [
       "pandas.core.frame.DataFrame"
      ]
     },
     "execution_count": 72,
     "metadata": {},
     "output_type": "execute_result"
    }
   ],
   "source": [
    "type(s)"
   ]
  },
  {
   "cell_type": "code",
   "execution_count": null,
   "id": "69dec8d7-cfd7-48c2-b5c0-3ee0c213942e",
   "metadata": {},
   "outputs": [],
   "source": []
  }
 ],
 "metadata": {
  "kernelspec": {
   "display_name": "Python 3 (ipykernel)",
   "language": "python",
   "name": "python3"
  },
  "language_info": {
   "codemirror_mode": {
    "name": "ipython",
    "version": 3
   },
   "file_extension": ".py",
   "mimetype": "text/x-python",
   "name": "python",
   "nbconvert_exporter": "python",
   "pygments_lexer": "ipython3",
   "version": "3.12.4"
  }
 },
 "nbformat": 4,
 "nbformat_minor": 5
}
